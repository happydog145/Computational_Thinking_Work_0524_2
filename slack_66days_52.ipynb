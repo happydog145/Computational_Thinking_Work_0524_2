{
 "cells": [
  {
   "cell_type": "code",
   "execution_count": null,
   "id": "29023010",
   "metadata": {},
   "outputs": [],
   "source": [
    "class Person:\n",
    "    def __init__(self, name, mobile, office, email):\n",
    "        self.__name=name\n",
    "        self.__mobile=mobile\n",
    "        self.__office=office\n",
    "        self.__email=email"
   ]
  },
  {
   "cell_type": "markdown",
   "id": "542c2a8e",
   "metadata": {},
   "source": [
    "# class 생성과 __init__ 생성자 함수"
   ]
  },
  {
   "cell_type": "code",
   "execution_count": null,
   "id": "693526bd",
   "metadata": {},
   "outputs": [],
   "source": [
    "    def get_name(self):\n",
    "        return self.__name\n",
    "    def get_mobile(self):\n",
    "        return self.__mobile\n",
    "    def get_office(self):\n",
    "        return self.__office\n",
    "    def get_email(self):\n",
    "        return self.__email"
   ]
  },
  {
   "cell_type": "markdown",
   "id": "ff6ce549",
   "metadata": {},
   "source": [
    "## get 함수"
   ]
  },
  {
   "cell_type": "code",
   "execution_count": null,
   "id": "231f4392",
   "metadata": {},
   "outputs": [],
   "source": [
    "    def set_name(self, name):\n",
    "        self.__name=name\n",
    "    def set_mobile(self, mobile):\n",
    "        self.__mobile=mobile\n",
    "    def set_office(self, office):\n",
    "        self.__office=office\n",
    "    def set_email(self, email):\n",
    "        self.__email=email"
   ]
  },
  {
   "cell_type": "markdown",
   "id": "ce569543",
   "metadata": {},
   "source": [
    "## set 함수"
   ]
  },
  {
   "cell_type": "code",
   "execution_count": null,
   "id": "c1f1a8cb",
   "metadata": {},
   "outputs": [],
   "source": [
    "    def __str__(self):\n",
    "        return f\"이름: {self.__name}\\n이동 수단: {self.__mobile}\\n회사: {self.__office}\\n이메일: {self.__email}\""
   ]
  },
  {
   "cell_type": "markdown",
   "id": "f9141a93",
   "metadata": {},
   "source": [
    "## str 함수 오버라이딩"
   ]
  },
  {
   "cell_type": "code",
   "execution_count": null,
   "id": "4b7fa5f9",
   "metadata": {},
   "outputs": [],
   "source": [
    "p1=Person(input(\"Enter name: \"),input(\"Enter mobile: \"),input(\"Enter office: \"),input(\"Enter email: \"))\n",
    "print(p1)\n",
    "print(get_name)\n",
    "print(get_mobile)\n",
    "print(get_office)\n",
    "print(get_email)\n",
    "p1.set_name(input(\"Enter name: \"))\n",
    "p1.set_mobile(input(\"Enter mobile: \"))\n",
    "p1.set_office(input(\"Enter office: \"))\n",
    "p1.set_email(input(\"Enter email: \"))\n",
    "print(p1)"
   ]
  },
  {
   "cell_type": "markdown",
   "id": "e2346f04",
   "metadata": {},
   "source": [
    "### 테스트 코드"
   ]
  }
 ],
 "metadata": {
  "kernelspec": {
   "display_name": "Python 3 (ipykernel)",
   "language": "python",
   "name": "python3"
  },
  "language_info": {
   "codemirror_mode": {
    "name": "ipython",
    "version": 3
   },
   "file_extension": ".py",
   "mimetype": "text/x-python",
   "name": "python",
   "nbconvert_exporter": "python",
   "pygments_lexer": "ipython3",
   "version": "3.9.12"
  }
 },
 "nbformat": 4,
 "nbformat_minor": 5
}
