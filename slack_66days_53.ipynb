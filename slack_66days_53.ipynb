{
 "cells": [
  {
   "cell_type": "code",
   "execution_count": null,
   "id": "4217440b",
   "metadata": {},
   "outputs": [],
   "source": [
    "def is_prime(n):\n",
    "    for i in range(2, n):\n",
    "        if n%i==0:\n",
    "            return False\n",
    "    return True"
   ]
  },
  {
   "cell_type": "markdown",
   "id": "e5239aee",
   "metadata": {},
   "source": [
    "# 소수 여부를 판별하는 is_prime 함수를 정의합니다."
   ]
  },
  {
   "cell_type": "code",
   "execution_count": null,
   "id": "ead71ee5",
   "metadata": {},
   "outputs": [],
   "source": [
    "n=int(input('수 입력: '))\n",
    "rl=[]\n",
    "for i in range(n):\n",
    "    if n%(i+1)==0 and is_prime(i+1):\n",
    "        rl.append(i+1)\n",
    "print(rl)"
   ]
  },
  {
   "cell_type": "markdown",
   "id": "8fc13206",
   "metadata": {},
   "source": [
    "## 그 다음 수를 입력받고 순차적으로 올라가는 i가 소인수인지 판별하여 rl에 append 합니다."
   ]
  }
 ],
 "metadata": {
  "kernelspec": {
   "display_name": "Python 3 (ipykernel)",
   "language": "python",
   "name": "python3"
  },
  "language_info": {
   "codemirror_mode": {
    "name": "ipython",
    "version": 3
   },
   "file_extension": ".py",
   "mimetype": "text/x-python",
   "name": "python",
   "nbconvert_exporter": "python",
   "pygments_lexer": "ipython3",
   "version": "3.9.12"
  }
 },
 "nbformat": 4,
 "nbformat_minor": 5
}
