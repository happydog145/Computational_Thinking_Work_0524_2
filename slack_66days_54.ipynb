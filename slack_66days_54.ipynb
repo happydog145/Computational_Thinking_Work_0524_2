{
 "cells": [
  {
   "cell_type": "code",
   "execution_count": null,
   "id": "8652e9eb",
   "metadata": {},
   "outputs": [],
   "source": [
    "l=[1]*1000001\n",
    "for i in range(2, 1001):\n",
    "    if l[i]:\n",
    "        for j in range(i*2, 1000001, i):\n",
    "            l[j]=0"
   ]
  },
  {
   "cell_type": "markdown",
   "id": "ba8f0d9f",
   "metadata": {},
   "source": [
    "# 1~100만까지의 소수를 판별하는 알고리즘"
   ]
  },
  {
   "cell_type": "code",
   "execution_count": null,
   "id": "fe67bc7b",
   "metadata": {},
   "outputs": [],
   "source": [
    "c=0\n",
    "for i in range(2, 1000001):\n",
    "    if l[i] and l[int(str(i)[::-1])]:\n",
    "        c+=1\n",
    "print(c)"
   ]
  },
  {
   "cell_type": "markdown",
   "id": "f66260e8",
   "metadata": {},
   "source": [
    "그 뒤 __string slicing__ 을 이용한 circular prime 판별"
   ]
  }
 ],
 "metadata": {
  "kernelspec": {
   "display_name": "Python 3 (ipykernel)",
   "language": "python",
   "name": "python3"
  },
  "language_info": {
   "codemirror_mode": {
    "name": "ipython",
    "version": 3
   },
   "file_extension": ".py",
   "mimetype": "text/x-python",
   "name": "python",
   "nbconvert_exporter": "python",
   "pygments_lexer": "ipython3",
   "version": "3.9.12"
  }
 },
 "nbformat": 4,
 "nbformat_minor": 5
}
